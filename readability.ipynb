{
 "cells": [
  {
   "cell_type": "code",
   "execution_count": 27,
   "metadata": {},
   "outputs": [],
   "source": [
    "import json\n",
    "import requests\n",
    "from dotenv import load_dotenv\n",
    "import os"
   ]
  },
  {
   "cell_type": "code",
   "execution_count": 28,
   "metadata": {},
   "outputs": [],
   "source": [
    "load_dotenv()  # Load environment variables from .env\n",
    "API_KEY = os.getenv(\"GOOGLE_API_KEY\")"
   ]
  },
  {
   "cell_type": "code",
   "execution_count": 32,
   "metadata": {},
   "outputs": [],
   "source": [
    "import google.generativeai as genai\n",
    "\n",
    "load_dotenv(\"key.env\")  # Load environment variables from .env\n",
    "API_KEY = os.getenv(\"GOOGLE_API_KEY\")\n",
    "\n",
    "genai.configure(api_key=API_KEY)\n",
    "model = genai.GenerativeModel(\"gemini-1.5-flash-8b\")\n",
    "#response = model.generate_content(\"Explain how AI works\")\n",
    "#print(response.text)\n"
   ]
  },
  {
   "cell_type": "code",
   "execution_count": 42,
   "metadata": {},
   "outputs": [],
   "source": [
    "functions_folder = \"generated_outputs\""
   ]
  },
  {
   "cell_type": "code",
   "execution_count": 43,
   "metadata": {},
   "outputs": [],
   "source": [
    "def evaluate_readability(function_code):\n",
    "    prompt = f\"Evaluate the readability of the following code on a scale of 1-5 (1: bad, 5: good):\\n\\n{function_code}\\n\\nOnly return a number from 1-5. Readability score:\"\n",
    "    response = model.generate_content(prompt)\n",
    "    try:\n",
    "        score = int(response.text.strip())\n",
    "        if score < 1 or score > 5:\n",
    "            raise ValueError(f\"Invalid score: {score}\")\n",
    "        return score\n",
    "    except ValueError:\n",
    "        print(f\"Failed to parse readability score for:\\n{function_code}\")\n",
    "        return None"
   ]
  },
  {
   "cell_type": "code",
   "execution_count": 74,
   "metadata": {},
   "outputs": [],
   "source": [
    "readability_scores = []\n",
    "\n",
    "\n",
    "txt_files = [os.path.join(functions_folder, f\"lc{i}.txt\") for i in range(1, 11)]\n",
    "\n",
    "\n",
    "for idx, file_path in enumerate(txt_files):\n",
    "    with open(file_path, \"r\") as f:\n",
    "        function_code = f.read()\n",
    "    \n",
    "    score = evaluate_readability(function_code)\n",
    "    if score is not None:\n",
    "        readability_scores.append({\"file_name\": os.path.basename(file_path), \"readability_score\": score})"
   ]
  },
  {
   "cell_type": "code",
   "execution_count": 75,
   "metadata": {},
   "outputs": [],
   "source": [
    "temp_readability = []\n",
    "\n",
    "txt_files = [os.path.join(functions_folder, f\"lc{i}.txt\") for i in range(11, 21)]\n",
    "\n",
    "\n",
    "for idx, file_path in enumerate(txt_files):\n",
    "    with open(file_path, \"r\") as f:\n",
    "        function_code = f.read()\n",
    "    \n",
    "    score = evaluate_readability(function_code)\n",
    "    if score is not None:\n",
    "        temp_readability.append({\"file_name\": os.path.basename(file_path), \"readability_score\": score})\n",
    "\n",
    "\n",
    "readability_scores = readability_scores + temp_readability"
   ]
  },
  {
   "cell_type": "code",
   "execution_count": 76,
   "metadata": {},
   "outputs": [],
   "source": [
    "temp_readability = []\n",
    "\n",
    "txt_files = [os.path.join(functions_folder, f\"lc{i}.txt\") for i in range(21, 31)]\n",
    "\n",
    "\n",
    "for idx, file_path in enumerate(txt_files):\n",
    "    with open(file_path, \"r\") as f:\n",
    "        function_code = f.read()\n",
    "    \n",
    "    score = evaluate_readability(function_code)\n",
    "    if score is not None:\n",
    "        temp_readability.append({\"file_name\": os.path.basename(file_path), \"readability_score\": score})\n",
    "\n",
    "readability_scores = readability_scores + temp_readability"
   ]
  },
  {
   "cell_type": "code",
   "execution_count": 77,
   "metadata": {},
   "outputs": [],
   "source": [
    "temp_readability = []\n",
    "\n",
    "txt_files = [os.path.join(functions_folder, f\"lc{i}.txt\") for i in range(31, 41)]\n",
    "\n",
    "\n",
    "for idx, file_path in enumerate(txt_files):\n",
    "    with open(file_path, \"r\") as f:\n",
    "        function_code = f.read()\n",
    "    \n",
    "    score = evaluate_readability(function_code)\n",
    "    if score is not None:\n",
    "        temp_readability.append({\"file_name\": os.path.basename(file_path), \"readability_score\": score})\n",
    "\n",
    "readability_scores = readability_scores + temp_readability"
   ]
  },
  {
   "cell_type": "code",
   "execution_count": 78,
   "metadata": {},
   "outputs": [],
   "source": [
    "temp_readability = []\n",
    "\n",
    "txt_files = [os.path.join(functions_folder, f\"lc{i}.txt\") for i in range(41, 51)]\n",
    "\n",
    "\n",
    "for idx, file_path in enumerate(txt_files):\n",
    "    with open(file_path, \"r\") as f:\n",
    "        function_code = f.read()\n",
    "    \n",
    "    score = evaluate_readability(function_code)\n",
    "    if score is not None:\n",
    "        temp_readability.append({\"file_name\": os.path.basename(file_path), \"readability_score\": score})\n",
    "\n",
    "\n",
    "readability_scores = readability_scores + temp_readability"
   ]
  },
  {
   "cell_type": "code",
   "execution_count": 79,
   "metadata": {},
   "outputs": [
    {
     "name": "stdout",
     "output_type": "stream",
     "text": [
      "Readability scores saved to readability_scores.json\n"
     ]
    }
   ],
   "source": [
    "results_file = \"readability_scores.json\"\n",
    "with open(results_file, \"w\") as f:\n",
    "    json.dump(readability_scores, f, indent=4)\n",
    "\n",
    "print(f\"Readability scores saved to {results_file}\")"
   ]
  }
 ],
 "metadata": {
  "kernelspec": {
   "display_name": "Python 3",
   "language": "python",
   "name": "python3"
  },
  "language_info": {
   "codemirror_mode": {
    "name": "ipython",
    "version": 3
   },
   "file_extension": ".py",
   "mimetype": "text/x-python",
   "name": "python",
   "nbconvert_exporter": "python",
   "pygments_lexer": "ipython3",
   "version": "3.9.6"
  }
 },
 "nbformat": 4,
 "nbformat_minor": 2
}
