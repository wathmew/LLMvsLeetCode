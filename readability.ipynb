{
 "cells": [
  {
   "cell_type": "code",
   "execution_count": 1,
   "metadata": {},
   "outputs": [],
   "source": [
    "import json\n",
    "from dotenv import load_dotenv\n",
    "import os\n",
    "import matplotlib.pyplot as plt\n"
   ]
  },
  {
   "cell_type": "code",
   "execution_count": 2,
   "metadata": {},
   "outputs": [],
   "source": [
    "load_dotenv()  # Load environment variables from .env\n",
    "API_KEY = os.getenv(\"GOOGLE_API_KEY\")"
   ]
  },
  {
   "cell_type": "code",
   "execution_count": 3,
   "metadata": {},
   "outputs": [
    {
     "name": "stderr",
     "output_type": "stream",
     "text": [
      "/Users/sruthirangarajan/Library/Python/3.9/lib/python/site-packages/urllib3/__init__.py:35: NotOpenSSLWarning: urllib3 v2 only supports OpenSSL 1.1.1+, currently the 'ssl' module is compiled with 'LibreSSL 2.8.3'. See: https://github.com/urllib3/urllib3/issues/3020\n",
      "  warnings.warn(\n",
      "/Users/sruthirangarajan/Library/Python/3.9/lib/python/site-packages/tqdm/auto.py:21: TqdmWarning: IProgress not found. Please update jupyter and ipywidgets. See https://ipywidgets.readthedocs.io/en/stable/user_install.html\n",
      "  from .autonotebook import tqdm as notebook_tqdm\n"
     ]
    }
   ],
   "source": [
    "import google.generativeai as genai\n",
    "\n",
    "load_dotenv(\"key.env\")  # Load environment variables from .env\n",
    "API_KEY = os.getenv(\"GOOGLE_API_KEY\")\n",
    "\n",
    "genai.configure(api_key=API_KEY)\n",
    "model = genai.GenerativeModel(\"gemini-1.5-flash-8b\")\n",
    "#response = model.generate_content(\"Explain how AI works\")\n",
    "#print(response.text)\n"
   ]
  },
  {
   "cell_type": "code",
   "execution_count": 4,
   "metadata": {},
   "outputs": [],
   "source": [
    "functions_folder = \"generated_outputs\""
   ]
  },
  {
   "cell_type": "code",
   "execution_count": 5,
   "metadata": {},
   "outputs": [],
   "source": [
    "def evaluate_readability(function_code):\n",
    "    prompt = f\"Evaluate the readability of the following code on a scale of 1-5 (1: bad, 5: good):\\n\\n{function_code}\\n\\nOnly return a number from 1-5. Readability score:\"\n",
    "    response = model.generate_content(prompt)\n",
    "    try:\n",
    "        score = int(response.text.strip())\n",
    "        if score < 1 or score > 5:\n",
    "            raise ValueError(f\"Invalid score: {score}\")\n",
    "        return score\n",
    "    except ValueError:\n",
    "        print(f\"Failed to parse readability score for:\\n{function_code}\")\n",
    "        return None"
   ]
  },
  {
   "cell_type": "code",
   "execution_count": 6,
   "metadata": {},
   "outputs": [],
   "source": [
    "readability_scores = []\n",
    "\n",
    "\n",
    "txt_files = [os.path.join(functions_folder, f\"lc{i}.txt\") for i in range(1, 11)]\n",
    "\n",
    "\n",
    "for idx, file_path in enumerate(txt_files):\n",
    "    with open(file_path, \"r\") as f:\n",
    "        function_code = f.read()\n",
    "    \n",
    "    score = evaluate_readability(function_code)\n",
    "    if score is not None:\n",
    "        readability_scores.append({\"file_name\": os.path.basename(file_path), \"readability_score\": score})"
   ]
  },
  {
   "cell_type": "code",
   "execution_count": 7,
   "metadata": {},
   "outputs": [],
   "source": [
    "temp_readability = []\n",
    "\n",
    "txt_files = [os.path.join(functions_folder, f\"lc{i}.txt\") for i in range(11, 21)]\n",
    "\n",
    "\n",
    "for idx, file_path in enumerate(txt_files):\n",
    "    with open(file_path, \"r\") as f:\n",
    "        function_code = f.read()\n",
    "    \n",
    "    score = evaluate_readability(function_code)\n",
    "    if score is not None:\n",
    "        temp_readability.append({\"file_name\": os.path.basename(file_path), \"readability_score\": score})\n",
    "\n",
    "\n",
    "readability_scores = readability_scores + temp_readability"
   ]
  },
  {
   "cell_type": "code",
   "execution_count": 8,
   "metadata": {},
   "outputs": [],
   "source": [
    "temp_readability = []\n",
    "\n",
    "txt_files = [os.path.join(functions_folder, f\"lc{i}.txt\") for i in range(21, 31)]\n",
    "\n",
    "\n",
    "for idx, file_path in enumerate(txt_files):\n",
    "    with open(file_path, \"r\") as f:\n",
    "        function_code = f.read()\n",
    "    \n",
    "    score = evaluate_readability(function_code)\n",
    "    if score is not None:\n",
    "        temp_readability.append({\"file_name\": os.path.basename(file_path), \"readability_score\": score})\n",
    "\n",
    "readability_scores = readability_scores + temp_readability"
   ]
  },
  {
   "cell_type": "code",
   "execution_count": 9,
   "metadata": {},
   "outputs": [],
   "source": [
    "temp_readability = []\n",
    "\n",
    "txt_files = [os.path.join(functions_folder, f\"lc{i}.txt\") for i in range(31, 41)]\n",
    "\n",
    "\n",
    "for idx, file_path in enumerate(txt_files):\n",
    "    with open(file_path, \"r\") as f:\n",
    "        function_code = f.read()\n",
    "    \n",
    "    score = evaluate_readability(function_code)\n",
    "    if score is not None:\n",
    "        temp_readability.append({\"file_name\": os.path.basename(file_path), \"readability_score\": score})\n",
    "\n",
    "readability_scores = readability_scores + temp_readability"
   ]
  },
  {
   "cell_type": "code",
   "execution_count": 10,
   "metadata": {},
   "outputs": [],
   "source": [
    "temp_readability = []\n",
    "\n",
    "txt_files = [os.path.join(functions_folder, f\"lc{i}.txt\") for i in range(41, 51)]\n",
    "\n",
    "\n",
    "for idx, file_path in enumerate(txt_files):\n",
    "    with open(file_path, \"r\") as f:\n",
    "        function_code = f.read()\n",
    "    \n",
    "    score = evaluate_readability(function_code)\n",
    "    if score is not None:\n",
    "        temp_readability.append({\"file_name\": os.path.basename(file_path), \"readability_score\": score})\n",
    "\n",
    "\n",
    "readability_scores = readability_scores + temp_readability"
   ]
  },
  {
   "cell_type": "code",
   "execution_count": 11,
   "metadata": {},
   "outputs": [
    {
     "name": "stdout",
     "output_type": "stream",
     "text": [
      "Readability scores saved to readability_scores.json\n"
     ]
    }
   ],
   "source": [
    "results_file = \"readability_scores.json\"\n",
    "with open(results_file, \"w\") as f:\n",
    "    json.dump(readability_scores, f, indent=4)\n",
    "\n",
    "print(f\"Readability scores saved to {results_file}\")"
   ]
  },
  {
   "cell_type": "code",
   "execution_count": 12,
   "metadata": {},
   "outputs": [
    {
     "data": {
      "image/png": "[encoded data removed]",
      "text/plain": [
       "<Figure size 800x600 with 1 Axes>"
      ]
     },
     "metadata": {},
     "output_type": "display_data"
    }
   ],
   "source": [
    "json_file = \"readability_scores.json\"\n",
    "\n",
    "with open(json_file, \"r\") as f:\n",
    "    data = json.load(f)\n",
    "\n",
    "scores = [entry[\"readability_score\"] for entry in data]\n",
    "\n",
    "plt.figure(figsize=(8, 6))\n",
    "plt.hist(scores, bins=range(1, 7), edgecolor=\"black\", align=\"left\")  # Bins from 1 to 5\n",
    "plt.xticks(range(1, 6))\n",
    "plt.title(\"Histogram of Readability Scores Generated by gemini-1.5-flash-8b\")\n",
    "plt.xlabel(\"Readability Score\")\n",
    "plt.ylabel(\"Frequency\")\n",
    "plt.grid(axis=\"y\", linestyle=\"--\", alpha=0.7)\n",
    "\n",
    "plt.show()"
   ]
  },
  {
   "cell_type": "code",
   "execution_count": 13,
   "metadata": {},
   "outputs": [
    {
     "name": "stdout",
     "output_type": "stream",
     "text": [
      "Average Readability Score: 3.24\n"
     ]
    }
   ],
   "source": [
    "average_score = sum(scores) / len(scores)\n",
    "print(f\"Average Readability Score: {average_score:.2f}\")"
   ]
  }
 ],
 "metadata": {
  "kernelspec": {
   "display_name": "Python 3",
   "language": "python",
   "name": "python3"
  },
  "language_info": {
   "codemirror_mode": {
    "name": "ipython",
    "version": 3
   },
   "file_extension": ".py",
   "mimetype": "text/x-python",
   "name": "python",
   "nbconvert_exporter": "python",
   "pygments_lexer": "ipython3",
   "version": "3.9.6"
  }
 },
 "nbformat": 4,
 "nbformat_minor": 2
}
